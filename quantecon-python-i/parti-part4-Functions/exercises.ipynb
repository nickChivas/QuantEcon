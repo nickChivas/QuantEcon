{
 "cells": [
  {
   "cell_type": "markdown",
   "metadata": {},
   "source": [
    "# Exercise 4.1\n",
    "Recall that $n! = n \\times (n-1) \\times ... \\times 2 \\times 1$. With $n$ only as a positive integer.\n",
    "\n",
    "Write a function `factorial` such that `factorial(n)` returns $n!$ for any positive integer $n$."
   ]
  },
  {
   "cell_type": "code",
   "execution_count": 1,
   "metadata": {},
   "outputs": [
    {
     "name": "stdout",
     "output_type": "stream",
     "text": [
      "5! = 120\n",
      "6! = 720\n"
     ]
    }
   ],
   "source": [
    "import numpy as np\n",
    "'''\n",
    "SOLUTION NOTES:\n",
    "Good. Lesson provides an alternate solution. This one starts at the smallest value and iterates up to the final n.\n",
    "\n",
    "    def factorial(n):\n",
    "        k = 1\n",
    "        for i in range(n):\n",
    "            k = k * (i + 1)\n",
    "        return k\n",
    "'''\n",
    "\n",
    "def factorial(n):\n",
    "    product = n             # The first number of the factorial should be the starting number\n",
    "    while (n > 1):          # The n value should get continuously small, but should not reach 1 (will result in 0) \n",
    "        product *= (n-1)    # From the behavior of a factorial, the product gets multiplied by the certain number of iterations (n - 1)\n",
    "        n -= 1              # Standard subtraction counter to help the loop iterate properly\n",
    "    return product          # Return n! = n * (n-1) * (n-2) * ... * 2 * 1.\n",
    "\n",
    "print(f'5! = {factorial(5)}')\n",
    "print(f'6! = {factorial(6)}')"
   ]
  },
  {
   "cell_type": "code",
   "execution_count": null,
   "metadata": {},
   "outputs": [],
   "source": []
  }
 ],
 "metadata": {
  "kernelspec": {
   "display_name": "base",
   "language": "python",
   "name": "python3"
  },
  "language_info": {
   "codemirror_mode": {
    "name": "ipython",
    "version": 3
   },
   "file_extension": ".py",
   "mimetype": "text/x-python",
   "name": "python",
   "nbconvert_exporter": "python",
   "pygments_lexer": "ipython3",
   "version": "3.11.5"
  }
 },
 "nbformat": 4,
 "nbformat_minor": 2
}
